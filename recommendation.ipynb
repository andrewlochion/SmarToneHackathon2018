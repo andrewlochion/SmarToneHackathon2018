{
 "cells": [
  {
   "cell_type": "code",
   "execution_count": 112,
   "metadata": {},
   "outputs": [],
   "source": [
    "import numpy as np\n",
    "import pandas as pd"
   ]
  },
  {
   "cell_type": "code",
   "execution_count": 113,
   "metadata": {},
   "outputs": [
    {
     "data": {
      "text/plain": [
       "0    1\n",
       "1    0\n",
       "2    0\n",
       "3    0\n",
       "4    0\n",
       "5    1\n",
       "6    1\n",
       "7    0\n",
       "8    0\n",
       "9    0\n",
       "dtype: int64"
      ]
     },
     "execution_count": 113,
     "metadata": {},
     "output_type": "execute_result"
    }
   ],
   "source": [
    "new_user_interests = pd.Series([1, 0, 0, 0, 0, 1, 1, 0, 0, 0])\n",
    "new_user_interests"
   ]
  },
  {
   "cell_type": "code",
   "execution_count": 114,
   "metadata": {
    "scrolled": true
   },
   "outputs": [],
   "source": [
    "new_user_estate = 4\n",
    "new_user_block = 3\n",
    "new_user_floor = 16"
   ]
  },
  {
   "cell_type": "code",
   "execution_count": 115,
   "metadata": {},
   "outputs": [
    {
     "data": {
      "text/plain": [
       "'Manhattan Hill'"
      ]
     },
     "execution_count": 115,
     "metadata": {},
     "output_type": "execute_result"
    }
   ],
   "source": [
    "properties = ['Chelsea Court', 'East Point City', 'The Leighton Hill', 'Les Saisons', 'Manhattan Hill', 'Harbour Place', 'Royal Ascot', 'The Latitude', 'Villa Esplanada', 'Yoho Town']\n",
    "\n",
    "new_user_estate_string = properties[new_user_estate]\n",
    "new_user_estate_string"
   ]
  },
  {
   "cell_type": "code",
   "execution_count": 116,
   "metadata": {},
   "outputs": [],
   "source": [
    "df_interest = pd.read_csv('resident_interest.csv')\n",
    "df_address = pd.read_csv('resident_address.csv')"
   ]
  },
  {
   "cell_type": "code",
   "execution_count": 117,
   "metadata": {
    "scrolled": false
   },
   "outputs": [
    {
     "data": {
      "text/html": [
       "<div>\n",
       "<style scoped>\n",
       "    .dataframe tbody tr th:only-of-type {\n",
       "        vertical-align: middle;\n",
       "    }\n",
       "\n",
       "    .dataframe tbody tr th {\n",
       "        vertical-align: top;\n",
       "    }\n",
       "\n",
       "    .dataframe thead th {\n",
       "        text-align: right;\n",
       "    }\n",
       "</style>\n",
       "<table border=\"1\" class=\"dataframe\">\n",
       "  <thead>\n",
       "    <tr style=\"text-align: right;\">\n",
       "      <th></th>\n",
       "      <th>resident_ID</th>\n",
       "      <th>pets</th>\n",
       "      <th>sports</th>\n",
       "      <th>travel</th>\n",
       "      <th>celebrities</th>\n",
       "      <th>finance</th>\n",
       "      <th>infant_care</th>\n",
       "      <th>food</th>\n",
       "      <th>music</th>\n",
       "      <th>technology</th>\n",
       "      <th>games</th>\n",
       "    </tr>\n",
       "  </thead>\n",
       "  <tbody>\n",
       "    <tr>\n",
       "      <th>0</th>\n",
       "      <td>495971</td>\n",
       "      <td>1</td>\n",
       "      <td>0</td>\n",
       "      <td>0</td>\n",
       "      <td>0</td>\n",
       "      <td>0</td>\n",
       "      <td>0</td>\n",
       "      <td>0</td>\n",
       "      <td>1</td>\n",
       "      <td>0</td>\n",
       "      <td>0</td>\n",
       "    </tr>\n",
       "    <tr>\n",
       "      <th>1</th>\n",
       "      <td>898725</td>\n",
       "      <td>0</td>\n",
       "      <td>0</td>\n",
       "      <td>0</td>\n",
       "      <td>0</td>\n",
       "      <td>0</td>\n",
       "      <td>0</td>\n",
       "      <td>0</td>\n",
       "      <td>0</td>\n",
       "      <td>0</td>\n",
       "      <td>0</td>\n",
       "    </tr>\n",
       "    <tr>\n",
       "      <th>2</th>\n",
       "      <td>435705</td>\n",
       "      <td>1</td>\n",
       "      <td>1</td>\n",
       "      <td>0</td>\n",
       "      <td>0</td>\n",
       "      <td>0</td>\n",
       "      <td>0</td>\n",
       "      <td>0</td>\n",
       "      <td>0</td>\n",
       "      <td>0</td>\n",
       "      <td>0</td>\n",
       "    </tr>\n",
       "    <tr>\n",
       "      <th>3</th>\n",
       "      <td>262145</td>\n",
       "      <td>0</td>\n",
       "      <td>1</td>\n",
       "      <td>0</td>\n",
       "      <td>0</td>\n",
       "      <td>0</td>\n",
       "      <td>0</td>\n",
       "      <td>0</td>\n",
       "      <td>0</td>\n",
       "      <td>1</td>\n",
       "      <td>0</td>\n",
       "    </tr>\n",
       "    <tr>\n",
       "      <th>4</th>\n",
       "      <td>501132</td>\n",
       "      <td>0</td>\n",
       "      <td>0</td>\n",
       "      <td>0</td>\n",
       "      <td>0</td>\n",
       "      <td>0</td>\n",
       "      <td>0</td>\n",
       "      <td>0</td>\n",
       "      <td>0</td>\n",
       "      <td>0</td>\n",
       "      <td>0</td>\n",
       "    </tr>\n",
       "  </tbody>\n",
       "</table>\n",
       "</div>"
      ],
      "text/plain": [
       "   resident_ID  pets  sports  travel  celebrities  finance  infant_care  food  \\\n",
       "0       495971     1       0       0            0        0            0     0   \n",
       "1       898725     0       0       0            0        0            0     0   \n",
       "2       435705     1       1       0            0        0            0     0   \n",
       "3       262145     0       1       0            0        0            0     0   \n",
       "4       501132     0       0       0            0        0            0     0   \n",
       "\n",
       "   music  technology  games  \n",
       "0      1           0      0  \n",
       "1      0           0      0  \n",
       "2      0           0      0  \n",
       "3      0           1      0  \n",
       "4      0           0      0  "
      ]
     },
     "execution_count": 117,
     "metadata": {},
     "output_type": "execute_result"
    }
   ],
   "source": [
    "df_interest.head()"
   ]
  },
  {
   "cell_type": "code",
   "execution_count": 118,
   "metadata": {},
   "outputs": [
    {
     "data": {
      "text/html": [
       "<div>\n",
       "<style scoped>\n",
       "    .dataframe tbody tr th:only-of-type {\n",
       "        vertical-align: middle;\n",
       "    }\n",
       "\n",
       "    .dataframe tbody tr th {\n",
       "        vertical-align: top;\n",
       "    }\n",
       "\n",
       "    .dataframe thead th {\n",
       "        text-align: right;\n",
       "    }\n",
       "</style>\n",
       "<table border=\"1\" class=\"dataframe\">\n",
       "  <thead>\n",
       "    <tr style=\"text-align: right;\">\n",
       "      <th></th>\n",
       "      <th>resident_ID</th>\n",
       "      <th>estate</th>\n",
       "      <th>block</th>\n",
       "      <th>floor</th>\n",
       "      <th>flat</th>\n",
       "    </tr>\n",
       "  </thead>\n",
       "  <tbody>\n",
       "    <tr>\n",
       "      <th>0</th>\n",
       "      <td>495971</td>\n",
       "      <td>East Point City</td>\n",
       "      <td>4</td>\n",
       "      <td>15</td>\n",
       "      <td>C</td>\n",
       "    </tr>\n",
       "    <tr>\n",
       "      <th>1</th>\n",
       "      <td>898725</td>\n",
       "      <td>East Point City</td>\n",
       "      <td>2</td>\n",
       "      <td>19</td>\n",
       "      <td>E</td>\n",
       "    </tr>\n",
       "    <tr>\n",
       "      <th>2</th>\n",
       "      <td>435705</td>\n",
       "      <td>Les Saisons</td>\n",
       "      <td>4</td>\n",
       "      <td>4</td>\n",
       "      <td>C</td>\n",
       "    </tr>\n",
       "    <tr>\n",
       "      <th>3</th>\n",
       "      <td>262145</td>\n",
       "      <td>Harbour Place</td>\n",
       "      <td>9</td>\n",
       "      <td>35</td>\n",
       "      <td>B</td>\n",
       "    </tr>\n",
       "    <tr>\n",
       "      <th>4</th>\n",
       "      <td>501132</td>\n",
       "      <td>Les Saisons</td>\n",
       "      <td>5</td>\n",
       "      <td>14</td>\n",
       "      <td>C</td>\n",
       "    </tr>\n",
       "  </tbody>\n",
       "</table>\n",
       "</div>"
      ],
      "text/plain": [
       "   resident_ID           estate  block  floor flat\n",
       "0       495971  East Point City      4     15    C\n",
       "1       898725  East Point City      2     19    E\n",
       "2       435705      Les Saisons      4      4    C\n",
       "3       262145    Harbour Place      9     35    B\n",
       "4       501132      Les Saisons      5     14    C"
      ]
     },
     "execution_count": 118,
     "metadata": {},
     "output_type": "execute_result"
    }
   ],
   "source": [
    "df_address.head()"
   ]
  },
  {
   "cell_type": "code",
   "execution_count": 119,
   "metadata": {},
   "outputs": [
    {
     "data": {
      "text/plain": [
       "0     1\n",
       "1     0\n",
       "2     1\n",
       "3     0\n",
       "4     0\n",
       "5     2\n",
       "6     0\n",
       "7     0\n",
       "8     1\n",
       "9     1\n",
       "10    1\n",
       "11    0\n",
       "12    1\n",
       "13    0\n",
       "14    1\n",
       "15    0\n",
       "16    1\n",
       "17    0\n",
       "18    1\n",
       "19    0\n",
       "20    0\n",
       "21    1\n",
       "22    0\n",
       "23    1\n",
       "24    0\n",
       "25    0\n",
       "26    1\n",
       "27    2\n",
       "28    1\n",
       "29    0\n",
       "     ..\n",
       "70    0\n",
       "71    0\n",
       "72    1\n",
       "73    0\n",
       "74    1\n",
       "75    0\n",
       "76    1\n",
       "77    0\n",
       "78    1\n",
       "79    1\n",
       "80    0\n",
       "81    1\n",
       "82    0\n",
       "83    0\n",
       "84    0\n",
       "85    1\n",
       "86    1\n",
       "87    2\n",
       "88    1\n",
       "89    0\n",
       "90    0\n",
       "91    0\n",
       "92    0\n",
       "93    0\n",
       "94    1\n",
       "95    1\n",
       "96    1\n",
       "97    0\n",
       "98    2\n",
       "99    1\n",
       "Length: 100, dtype: int64"
      ]
     },
     "execution_count": 119,
     "metadata": {},
     "output_type": "execute_result"
    }
   ],
   "source": [
    "match_index = (df_interest.iloc[:, 1:] * np.array(new_user_interests)).sum(axis=1)\n",
    "match_index.apply(lambda x: -1 if x==0 else x)\n",
    "match_index"
   ]
  },
  {
   "cell_type": "code",
   "execution_count": 120,
   "metadata": {},
   "outputs": [],
   "source": [
    "for i in range(len(match_index)):\n",
    "    if new_user_estate_string == df_address.loc[i, 'estate']:\n",
    "        match_index.iloc[i] +=10\n",
    "        if new_user_block == df_address.loc[i, 'block']:\n",
    "            match_index.iloc[i] += 2\n",
    "            if new_user_floor == df_address.loc[i, 'floor']:\n",
    "                match_index.iloc[i] += 1"
   ]
  },
  {
   "cell_type": "code",
   "execution_count": 121,
   "metadata": {},
   "outputs": [
    {
     "data": {
      "text/plain": [
       "0      1\n",
       "1      0\n",
       "2      1\n",
       "3      0\n",
       "4      0\n",
       "5      2\n",
       "6      0\n",
       "7      0\n",
       "8      1\n",
       "9      1\n",
       "10     1\n",
       "11     0\n",
       "12     1\n",
       "13     0\n",
       "14     1\n",
       "15     0\n",
       "16     1\n",
       "17     0\n",
       "18     1\n",
       "19     0\n",
       "20     0\n",
       "21     1\n",
       "22     0\n",
       "23     1\n",
       "24    10\n",
       "25     0\n",
       "26     1\n",
       "27     2\n",
       "28     1\n",
       "29     0\n",
       "      ..\n",
       "70    12\n",
       "71     0\n",
       "72    13\n",
       "73     0\n",
       "74     1\n",
       "75     0\n",
       "76     1\n",
       "77     0\n",
       "78    11\n",
       "79     1\n",
       "80     0\n",
       "81     1\n",
       "82     0\n",
       "83     0\n",
       "84     0\n",
       "85     1\n",
       "86     1\n",
       "87     2\n",
       "88     1\n",
       "89     0\n",
       "90     0\n",
       "91     0\n",
       "92     0\n",
       "93     0\n",
       "94     1\n",
       "95     1\n",
       "96     1\n",
       "97     0\n",
       "98     2\n",
       "99     1\n",
       "Length: 100, dtype: int64"
      ]
     },
     "execution_count": 121,
     "metadata": {},
     "output_type": "execute_result"
    }
   ],
   "source": [
    "match_index"
   ]
  },
  {
   "cell_type": "code",
   "execution_count": 122,
   "metadata": {},
   "outputs": [
    {
     "data": {
      "text/plain": [
       "13"
      ]
     },
     "execution_count": 122,
     "metadata": {},
     "output_type": "execute_result"
    }
   ],
   "source": [
    "match_index.max()"
   ]
  },
  {
   "cell_type": "code",
   "execution_count": 123,
   "metadata": {
    "scrolled": true
   },
   "outputs": [
    {
     "data": {
      "text/plain": [
       "0     45\n",
       "1     40\n",
       "2      6\n",
       "11     3\n",
       "10     3\n",
       "13     2\n",
       "12     1\n",
       "dtype: int64"
      ]
     },
     "execution_count": 123,
     "metadata": {},
     "output_type": "execute_result"
    }
   ],
   "source": [
    "match_index.value_counts()"
   ]
  },
  {
   "cell_type": "code",
   "execution_count": 131,
   "metadata": {},
   "outputs": [
    {
     "data": {
      "text/plain": [
       "72    463919\n",
       "43    968795\n",
       "70    450346\n",
       "56    894335\n",
       "64    154262\n",
       "Name: resident_ID, dtype: int64"
      ]
     },
     "execution_count": 131,
     "metadata": {},
     "output_type": "execute_result"
    }
   ],
   "source": [
    "df_interest.loc[match_index.sort_values(ascending=False)[:5].index, 'resident_ID']"
   ]
  }
 ],
 "metadata": {
  "kernelspec": {
   "display_name": "Python 3",
   "language": "python",
   "name": "python3"
  },
  "language_info": {
   "codemirror_mode": {
    "name": "ipython",
    "version": 3
   },
   "file_extension": ".py",
   "mimetype": "text/x-python",
   "name": "python",
   "nbconvert_exporter": "python",
   "pygments_lexer": "ipython3",
   "version": "3.6.5"
  }
 },
 "nbformat": 4,
 "nbformat_minor": 2
}
